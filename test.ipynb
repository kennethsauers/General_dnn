{
 "cells": [
  {
   "cell_type": "code",
   "execution_count": 1,
   "metadata": {
    "collapsed": true
   },
   "outputs": [],
   "source": [
    "import gym\n",
    "import numpy as np\n",
    "import tflearn\n",
    "from tflearn.layers.core import input_data, dropout, fully_connected \n",
    "from tflearn.layers.estimator import regression\n",
    "import os\n",
    "import numpy as np"
   ]
  },
  {
   "cell_type": "code",
   "execution_count": 2,
   "metadata": {
    "collapsed": true
   },
   "outputs": [],
   "source": [
    "class agent():\n",
    "    def __init__(self, name, feature, label):\n",
    "        self.name = name\n",
    "        self.feature = np.array(feature)\n",
    "        self.label = np.array(label)\n",
    "        \n",
    "        self.feature_size = self.feature.shape\n",
    "        self.feature_size = self.feature_size[1]\n",
    "        self.label_size = self.label.shape\n",
    "        self.label_size = self.label_size[1]\n",
    "        self.model = self.create_model()\n",
    "        \n",
    "        self.main_dir = self.name\n",
    "        self.model_dir = self.main_dir + '/model_save'\n",
    "        \n",
    "        if not os.path.exists(self.main_dir):\n",
    "            os.makedirs(self.main_dir)\n",
    "            \n",
    "    def saver(self):\n",
    "        self.model.save(self.model_dir)\n",
    "    \n",
    "    def restore(self):\n",
    "        self.model.load(self.model_dir)\n",
    "        \n",
    "    def train_for(self, epoch):\n",
    "        self.model.fit({'input': self.feature}, {'targets': self.label}, n_epoch=epoch, snapshot_step=500, show_metric=True, run_id='openai_learning')\n",
    "    \n",
    "    def create_model(self):\n",
    "        keep = 0.8\n",
    "        LR = 1e-3\n",
    "        network = input_data(shape=[None, self.feature_size], name='input')\n",
    "        network = fully_connected(network, 128, activation='relu', name = 'hidden_1')\n",
    "        network = dropout(network,keep)\n",
    "        network = fully_connected(network, 256, activation='relu', name = 'hidden_2')\n",
    "        network = dropout(network,keep)\n",
    "        network = fully_connected(network, 512, activation='relu', name = 'hidden_3')\n",
    "        network = dropout(network,keep)\n",
    "        network = fully_connected(network, 256, activation='relu', name = 'hidden_4')\n",
    "        network = dropout(network,keep)\n",
    "        network = fully_connected(network, 128, activation='relu', name = 'hidden_5')\n",
    "        network = dropout(network,keep)\n",
    "        network = fully_connected(network, self.label_size, activation='softmax', name = 'softmax')\n",
    "        network = regression(network, optimizer='adam', learning_rate=LR, loss='categorical_crossentropy', name='targets')\n",
    "        model = tflearn.DNN(network, tensorboard_verbose=3)\n",
    "        return model\n",
    "        "
   ]
  },
  {
   "cell_type": "code",
   "execution_count": 3,
   "metadata": {
    "collapsed": true
   },
   "outputs": [],
   "source": [
    "def convert_labels(labels):\n",
    "    training_data = []\n",
    "    for data in labels:\n",
    "        if data == 0:\n",
    "            output = [1,0,0]\n",
    "        if data == 1:\n",
    "            output = [0,1,0]\n",
    "        if data == 2:\n",
    "            output = [0,0,1]\n",
    "        training_data.append(output)\n",
    "    return training_data"
   ]
  },
  {
   "cell_type": "code",
   "execution_count": 4,
   "metadata": {
    "collapsed": false
   },
   "outputs": [
    {
     "name": "stdout",
     "output_type": "stream",
     "text": [
      "Training Step: 299  | total loss: \u001b[1m\u001b[32m0.24531\u001b[0m\u001b[0m | time: 0.054s\n",
      "| Adam | epoch: 100 | loss: 0.24531 - acc: 0.9412 -- iter: 128/150\n",
      "Training Step: 300  | total loss: \u001b[1m\u001b[32m0.60235\u001b[0m\u001b[0m | time: 0.083s\n",
      "| Adam | epoch: 100 | loss: 0.60235 - acc: 0.8743 -- iter: 150/150\n",
      "--\n",
      "INFO:tensorflow:/home/hedonist/Documents/general_dnn/iris/model_save is not in all_model_checkpoint_paths. Manually adding it.\n"
     ]
    },
    {
     "name": "stderr",
     "output_type": "stream",
     "text": [
      "[2017-07-11 13:26:22,012] /home/hedonist/Documents/general_dnn/iris/model_save is not in all_model_checkpoint_paths. Manually adding it.\n"
     ]
    }
   ],
   "source": [
    "if __name__ == '__main__':\n",
    "    from sklearn.datasets import load_iris\n",
    "\n",
    "    iris = load_iris()\n",
    "    features = iris.data\n",
    "    labels = iris.target\n",
    "    labels = convert_labels(labels)\n",
    "    a = agent(feature=features, label=labels, name='iris')\n",
    "    a.train_for(100)\n",
    "    a.saver()"
   ]
  },
  {
   "cell_type": "code",
   "execution_count": 4,
   "metadata": {
    "collapsed": false
   },
   "outputs": [
    {
     "name": "stdout",
     "output_type": "stream",
     "text": [
      "Extracting MNIST_data/train-images-idx3-ubyte.gz\n",
      "Extracting MNIST_data/train-labels-idx1-ubyte.gz\n",
      "Extracting MNIST_data/t10k-images-idx3-ubyte.gz\n",
      "Extracting MNIST_data/t10k-labels-idx1-ubyte.gz\n"
     ]
    }
   ],
   "source": [
    "def runmnist():\n",
    "    import database\n",
    "\n",
    "    a = agent(feature=database.train_x, label=database.train_y, name='mnist')\n",
    "    a.train_for(5)"
   ]
  },
  {
   "cell_type": "code",
   "execution_count": 5,
   "metadata": {
    "collapsed": false
   },
   "outputs": [
    {
     "name": "stdout",
     "output_type": "stream",
     "text": [
      "Training Step: 4299  | total loss: \u001b[1m\u001b[32m0.18977\u001b[0m\u001b[0m | time: 34.329s\n",
      "| Adam | epoch: 005 | loss: 0.18977 - acc: 0.9625 -- iter: 54976/55000\n",
      "Training Step: 4300  | total loss: \u001b[1m\u001b[32m0.18015\u001b[0m\u001b[0m | time: 34.367s\n",
      "| Adam | epoch: 005 | loss: 0.18015 - acc: 0.9625 -- iter: 55000/55000\n",
      "--\n"
     ]
    }
   ],
   "source": []
  },
  {
   "cell_type": "code",
   "execution_count": null,
   "metadata": {
    "collapsed": true
   },
   "outputs": [],
   "source": []
  }
 ],
 "metadata": {
  "anaconda-cloud": {},
  "kernelspec": {
   "display_name": "Python [conda root]",
   "language": "python",
   "name": "conda-root-py"
  },
  "language_info": {
   "codemirror_mode": {
    "name": "ipython",
    "version": 3
   },
   "file_extension": ".py",
   "mimetype": "text/x-python",
   "name": "python",
   "nbconvert_exporter": "python",
   "pygments_lexer": "ipython3",
   "version": "3.5.2"
  }
 },
 "nbformat": 4,
 "nbformat_minor": 2
}
