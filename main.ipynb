{
 "cells": [
  {
   "cell_type": "code",
   "execution_count": 1,
   "metadata": {
    "collapsed": true,
    "deletable": true,
    "editable": true
   },
   "outputs": [],
   "source": [
    "import numpy as np\n",
    "import tflearn\n",
    "from tflearn.layers.core import input_data, dropout, fully_connected \n",
    "from tflearn.layers.estimator import regression\n",
    "import os\n",
    "import numpy as np"
   ]
  },
  {
   "cell_type": "code",
   "execution_count": 2,
   "metadata": {
    "collapsed": true,
    "deletable": true,
    "editable": true
   },
   "outputs": [],
   "source": [
    "class agent():\n",
    "    def __init__(self, name, feature, label):\n",
    "        self.name = name\n",
    "        self.feature = np.array(feature)\n",
    "        self.label = np.array(label)\n",
    "        \n",
    "        self.feature_size = self.feature.shape\n",
    "        self.feature_size = self.feature_size[1]\n",
    "        self.label_size = self.label.shape\n",
    "        self.label_size = self.label_size[1]\n",
    "        self.model = self.create_model()\n",
    "        \n",
    "        self.main_dir = self.name\n",
    "        self.model_dir = self.main_dir + '/model_save'\n",
    "        \n",
    "        if not os.path.exists(self.main_dir):\n",
    "            os.makedirs(self.main_dir)\n",
    "            \n",
    "    def saver(self):\n",
    "        self.model.save(self.model_dir)\n",
    "    \n",
    "    def restore(self):\n",
    "        self.model.load(self.model_dir)\n",
    "        \n",
    "    def train_for(self, epoch):\n",
    "        self.model.fit({'input': self.feature}, {'targets': self.label}, n_epoch=epoch, snapshot_step=500, show_metric=True, run_id='openai_learning')\n",
    "    \n",
    "    def create_model(self):\n",
    "        keep = 0.8\n",
    "        LR = 1e-3\n",
    "        network = input_data(shape=[None, self.feature_size], name='input')\n",
    "        network = fully_connected(network, 128, activation='relu', name = 'hidden_1')\n",
    "        network = dropout(network,keep)\n",
    "        network = fully_connected(network, 256, activation='relu', name = 'hidden_2')\n",
    "        network = dropout(network,keep)\n",
    "        network = fully_connected(network, 512, activation='relu', name = 'hidden_3')\n",
    "        network = dropout(network,keep)\n",
    "        network = fully_connected(network, 256, activation='relu', name = 'hidden_4')\n",
    "        network = dropout(network,keep)\n",
    "        network = fully_connected(network, 128, activation='relu', name = 'hidden_5')\n",
    "        network = dropout(network,keep)\n",
    "        network = fully_connected(network, self.label_size, activation='softmax', name = 'softmax')\n",
    "        network = regression(network, optimizer='adam', learning_rate=LR, loss='categorical_crossentropy', name='targets')\n",
    "        model = tflearn.DNN(network, tensorboard_verbose=3)\n",
    "        return model\n",
    "        "
   ]
  }
 ],
 "metadata": {
  "anaconda-cloud": {},
  "kernelspec": {
   "display_name": "Python [conda root]",
   "language": "python",
   "name": "conda-root-py"
  },
  "language_info": {
   "codemirror_mode": {
    "name": "ipython",
    "version": 3
   },
   "file_extension": ".py",
   "mimetype": "text/x-python",
   "name": "python",
   "nbconvert_exporter": "python",
   "pygments_lexer": "ipython3",
   "version": "3.5.2"
  }
 },
 "nbformat": 4,
 "nbformat_minor": 2
}
