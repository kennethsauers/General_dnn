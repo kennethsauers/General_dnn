{
 "cells": [
  {
   "cell_type": "code",
   "execution_count": 1,
   "metadata": {
    "collapsed": true
   },
   "outputs": [],
   "source": [
    "import numpy as np\n",
    "import tflearn\n",
    "from tflearn.layers.core import input_data, dropout, fully_connected \n",
    "from tflearn.layers.estimator import regression\n",
    "import os\n",
    "import numpy as np\n",
    "import main"
   ]
  },
  {
   "cell_type": "code",
   "execution_count": 2,
   "metadata": {
    "collapsed": false
   },
   "outputs": [],
   "source": [
    "from sklearn.datasets import load_breast_cancer\n",
    "dia = load_breast_cancer()"
   ]
  },
  {
   "cell_type": "code",
   "execution_count": 3,
   "metadata": {
    "collapsed": true
   },
   "outputs": [],
   "source": [
    "def convert_labels(labels):\n",
    "    training_data = []\n",
    "    for data in labels:\n",
    "        if data == 0:\n",
    "            output = [1,0]\n",
    "        if data == 1:\n",
    "            output = [0,1]\n",
    "        training_data.append(output)\n",
    "    return training_data"
   ]
  },
  {
   "cell_type": "code",
   "execution_count": 4,
   "metadata": {
    "collapsed": true
   },
   "outputs": [],
   "source": [
    "x = dia.data\n",
    "y = dia.target\n",
    "y= convert_labels(y)"
   ]
  },
  {
   "cell_type": "code",
   "execution_count": 5,
   "metadata": {
    "collapsed": false
   },
   "outputs": [
    {
     "name": "stdout",
     "output_type": "stream",
     "text": [
      "Training Step: 4499  | total loss: \u001b[1m\u001b[32m0.34134\u001b[0m\u001b[0m | time: 0.178s\n",
      "| Adam | epoch: 500 | loss: 0.34134 - acc: 0.8973 -- iter: 512/569\n",
      "Training Step: 4500  | total loss: \u001b[1m\u001b[32m0.32206\u001b[0m\u001b[0m | time: 0.200s\n",
      "| Adam | epoch: 500 | loss: 0.32206 - acc: 0.9023 -- iter: 569/569\n",
      "--\n",
      "INFO:tensorflow:/home/hedonist/Documents/general_dnn/cancer/model_save is not in all_model_checkpoint_paths. Manually adding it.\n"
     ]
    },
    {
     "name": "stderr",
     "output_type": "stream",
     "text": [
      "[2017-07-11 15:01:48,437] /home/hedonist/Documents/general_dnn/cancer/model_save is not in all_model_checkpoint_paths. Manually adding it.\n"
     ]
    }
   ],
   "source": [
    "a = main.agent(name = 'cancer', feature=x, label=y)\n",
    "a.train_for(500)\n",
    "a.saver()"
   ]
  }
 ],
 "metadata": {
  "kernelspec": {
   "display_name": "Python [conda root]",
   "language": "python",
   "name": "conda-root-py"
  },
  "language_info": {
   "codemirror_mode": {
    "name": "ipython",
    "version": 3
   },
   "file_extension": ".py",
   "mimetype": "text/x-python",
   "name": "python",
   "nbconvert_exporter": "python",
   "pygments_lexer": "ipython3",
   "version": "3.5.2"
  }
 },
 "nbformat": 4,
 "nbformat_minor": 2
}
