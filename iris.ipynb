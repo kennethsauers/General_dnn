{
 "cells": [
  {
   "cell_type": "code",
   "execution_count": 1,
   "metadata": {
    "collapsed": true
   },
   "outputs": [],
   "source": [
    "import numpy as np\n",
    "import tflearn\n",
    "from tflearn.layers.core import input_data, dropout, fully_connected \n",
    "from tflearn.layers.estimator import regression\n",
    "import os\n",
    "import numpy as np\n",
    "import main"
   ]
  },
  {
   "cell_type": "code",
   "execution_count": 2,
   "metadata": {
    "collapsed": true
   },
   "outputs": [],
   "source": [
    "def convert_labels(labels):\n",
    "    training_data = []\n",
    "    for data in labels:\n",
    "        if data == 0:\n",
    "            output = [1,0,0]\n",
    "        if data == 1:\n",
    "            output = [0,1,0]\n",
    "        if data == 2:\n",
    "            output = [0,0,1]\n",
    "        training_data.append(output)\n",
    "    return training_data"
   ]
  },
  {
   "cell_type": "code",
   "execution_count": 3,
   "metadata": {
    "collapsed": true
   },
   "outputs": [],
   "source": [
    "from sklearn.datasets import load_iris"
   ]
  },
  {
   "cell_type": "code",
   "execution_count": 4,
   "metadata": {
    "collapsed": true
   },
   "outputs": [],
   "source": [
    "iris = load_iris()\n",
    "x = iris.data\n",
    "y = iris.target"
   ]
  },
  {
   "cell_type": "code",
   "execution_count": 5,
   "metadata": {
    "collapsed": false
   },
   "outputs": [],
   "source": [
    "y = convert_labels(y)"
   ]
  },
  {
   "cell_type": "code",
   "execution_count": 6,
   "metadata": {
    "collapsed": true
   },
   "outputs": [],
   "source": [
    "agent = main.agent(name='iris', feature=x, label=y)"
   ]
  },
  {
   "cell_type": "code",
   "execution_count": 7,
   "metadata": {
    "collapsed": false
   },
   "outputs": [
    {
     "name": "stdout",
     "output_type": "stream",
     "text": [
      "Training Step: 599  | total loss: \u001b[1m\u001b[32m0.34934\u001b[0m\u001b[0m | time: 0.058s\n",
      "| Adam | epoch: 200 | loss: 0.34934 - acc: 0.9157 -- iter: 128/150\n",
      "Training Step: 600  | total loss: \u001b[1m\u001b[32m0.33034\u001b[0m\u001b[0m | time: 0.087s\n",
      "| Adam | epoch: 200 | loss: 0.33034 - acc: 0.9150 -- iter: 150/150\n",
      "--\n",
      "INFO:tensorflow:/home/hedonist/Documents/general_dnn/iris/model_save is not in all_model_checkpoint_paths. Manually adding it.\n"
     ]
    },
    {
     "name": "stderr",
     "output_type": "stream",
     "text": [
      "[2017-07-11 14:38:00,945] /home/hedonist/Documents/general_dnn/iris/model_save is not in all_model_checkpoint_paths. Manually adding it.\n"
     ]
    }
   ],
   "source": [
    "agent.train_for(200)\n",
    "agent.saver()"
   ]
  },
  {
   "cell_type": "code",
   "execution_count": null,
   "metadata": {
    "collapsed": true
   },
   "outputs": [],
   "source": []
  }
 ],
 "metadata": {
  "anaconda-cloud": {},
  "kernelspec": {
   "display_name": "Python [conda root]",
   "language": "python",
   "name": "conda-root-py"
  },
  "language_info": {
   "codemirror_mode": {
    "name": "ipython",
    "version": 3
   },
   "file_extension": ".py",
   "mimetype": "text/x-python",
   "name": "python",
   "nbconvert_exporter": "python",
   "pygments_lexer": "ipython3",
   "version": "3.5.2"
  }
 },
 "nbformat": 4,
 "nbformat_minor": 2
}
